{
 "cells": [
  {
   "cell_type": "code",
   "execution_count": 2,
   "id": "030a6171-23fd-4dc1-9b52-adc11bbd6e75",
   "metadata": {},
   "outputs": [],
   "source": [
    "#Average calculation"
   ]
  },
  {
   "cell_type": "code",
   "execution_count": 4,
   "id": "f3a6486f-fc17-4414-a6b1-f1474b4292cb",
   "metadata": {},
   "outputs": [],
   "source": [
    "numbers = [10, 20, 30, 40, 50]"
   ]
  },
  {
   "cell_type": "code",
   "execution_count": 6,
   "id": "20fe0776-daee-40a4-81d3-968a9cba4e32",
   "metadata": {},
   "outputs": [],
   "source": [
    "total_sum = sum(numbers)"
   ]
  },
  {
   "cell_type": "code",
   "execution_count": 8,
   "id": "e4018e4f-7ca7-419d-aeb6-317575b6ee01",
   "metadata": {},
   "outputs": [],
   "source": [
    "count = len(numbers)"
   ]
  },
  {
   "cell_type": "code",
   "execution_count": 10,
   "id": "6b11657e-fcb1-46f2-a658-51980c3f67e7",
   "metadata": {},
   "outputs": [],
   "source": [
    "average = total_sum / count"
   ]
  },
  {
   "cell_type": "code",
   "execution_count": 12,
   "id": "61780bc7-e7c5-4bf4-a064-1228375217ad",
   "metadata": {
    "scrolled": true
   },
   "outputs": [
    {
     "data": {
      "text/plain": [
       "30.0"
      ]
     },
     "execution_count": 12,
     "metadata": {},
     "output_type": "execute_result"
    }
   ],
   "source": [
    "average"
   ]
  },
  {
   "cell_type": "code",
   "execution_count": 1,
   "id": "1880292a-95ea-4997-aadf-8f9fc9657a58",
   "metadata": {},
   "outputs": [],
   "source": [
    "#Average calculation"
   ]
  },
  {
   "cell_type": "code",
   "execution_count": 3,
   "id": "86d64d31-81af-473e-858d-e8230b1f9439",
   "metadata": {},
   "outputs": [],
   "source": [
    "numbers = [10, 20, 30, 40, 50]"
   ]
  },
  {
   "cell_type": "code",
   "execution_count": 5,
   "id": "cc7295f6-290f-49c7-ac0c-c404fb1f5dba",
   "metadata": {},
   "outputs": [],
   "source": [
    "import numpy as np"
   ]
  },
  {
   "cell_type": "code",
   "execution_count": 7,
   "id": "f11ec5ff-72a1-4fb6-b60f-5909a6cdd143",
   "metadata": {},
   "outputs": [],
   "source": [
    "mean_value = np.mean(numbers)"
   ]
  },
  {
   "cell_type": "code",
   "execution_count": 9,
   "id": "32dc8064-a285-498e-bd6b-b85f90b4eeb4",
   "metadata": {},
   "outputs": [
    {
     "data": {
      "text/plain": [
       "30.0"
      ]
     },
     "execution_count": 9,
     "metadata": {},
     "output_type": "execute_result"
    }
   ],
   "source": [
    "mean_value"
   ]
  },
  {
   "cell_type": "code",
   "execution_count": 11,
   "id": "4f517934-09fb-4c95-9dbe-a85ea60f8cd8",
   "metadata": {},
   "outputs": [],
   "source": [
    "import yfinance as yf"
   ]
  },
  {
   "cell_type": "code",
   "execution_count": 13,
   "id": "b32ebea4-55fd-4c99-a18e-2004e045fab9",
   "metadata": {},
   "outputs": [
    {
     "name": "stderr",
     "output_type": "stream",
     "text": [
      "[*********************100%***********************]  1 of 1 completed\n"
     ]
    },
    {
     "data": {
      "text/html": [
       "<div>\n",
       "<style scoped>\n",
       "    .dataframe tbody tr th:only-of-type {\n",
       "        vertical-align: middle;\n",
       "    }\n",
       "\n",
       "    .dataframe tbody tr th {\n",
       "        vertical-align: top;\n",
       "    }\n",
       "\n",
       "    .dataframe thead tr th {\n",
       "        text-align: left;\n",
       "    }\n",
       "\n",
       "    .dataframe thead tr:last-of-type th {\n",
       "        text-align: right;\n",
       "    }\n",
       "</style>\n",
       "<table border=\"1\" class=\"dataframe\">\n",
       "  <thead>\n",
       "    <tr>\n",
       "      <th>Price</th>\n",
       "      <th>Close</th>\n",
       "      <th>High</th>\n",
       "      <th>Low</th>\n",
       "      <th>Open</th>\n",
       "      <th>Volume</th>\n",
       "    </tr>\n",
       "    <tr>\n",
       "      <th>Ticker</th>\n",
       "      <th>JPM</th>\n",
       "      <th>JPM</th>\n",
       "      <th>JPM</th>\n",
       "      <th>JPM</th>\n",
       "      <th>JPM</th>\n",
       "    </tr>\n",
       "    <tr>\n",
       "      <th>Date</th>\n",
       "      <th></th>\n",
       "      <th></th>\n",
       "      <th></th>\n",
       "      <th></th>\n",
       "      <th></th>\n",
       "    </tr>\n",
       "  </thead>\n",
       "  <tbody>\n",
       "    <tr>\n",
       "      <th>2010-01-04</th>\n",
       "      <td>29.006744</td>\n",
       "      <td>29.101518</td>\n",
       "      <td>28.207959</td>\n",
       "      <td>28.289193</td>\n",
       "      <td>35460500</td>\n",
       "    </tr>\n",
       "    <tr>\n",
       "      <th>2010-01-05</th>\n",
       "      <td>29.568615</td>\n",
       "      <td>29.676925</td>\n",
       "      <td>28.959370</td>\n",
       "      <td>28.966141</td>\n",
       "      <td>41208300</td>\n",
       "    </tr>\n",
       "    <tr>\n",
       "      <th>2010-01-06</th>\n",
       "      <td>29.731073</td>\n",
       "      <td>29.846154</td>\n",
       "      <td>29.318144</td>\n",
       "      <td>29.412915</td>\n",
       "      <td>27729000</td>\n",
       "    </tr>\n",
       "    <tr>\n",
       "      <th>2010-01-07</th>\n",
       "      <td>30.320011</td>\n",
       "      <td>30.543399</td>\n",
       "      <td>29.521225</td>\n",
       "      <td>29.643074</td>\n",
       "      <td>44864700</td>\n",
       "    </tr>\n",
       "    <tr>\n",
       "      <th>2010-01-08</th>\n",
       "      <td>30.245550</td>\n",
       "      <td>30.259089</td>\n",
       "      <td>29.839389</td>\n",
       "      <td>30.035699</td>\n",
       "      <td>33110100</td>\n",
       "    </tr>\n",
       "    <tr>\n",
       "      <th>...</th>\n",
       "      <td>...</td>\n",
       "      <td>...</td>\n",
       "      <td>...</td>\n",
       "      <td>...</td>\n",
       "      <td>...</td>\n",
       "    </tr>\n",
       "    <tr>\n",
       "      <th>2024-12-24</th>\n",
       "      <td>241.064987</td>\n",
       "      <td>241.244070</td>\n",
       "      <td>237.841644</td>\n",
       "      <td>238.199780</td>\n",
       "      <td>3729100</td>\n",
       "    </tr>\n",
       "    <tr>\n",
       "      <th>2024-12-26</th>\n",
       "      <td>241.890717</td>\n",
       "      <td>242.010095</td>\n",
       "      <td>239.552785</td>\n",
       "      <td>240.189496</td>\n",
       "      <td>4451800</td>\n",
       "    </tr>\n",
       "    <tr>\n",
       "      <th>2024-12-27</th>\n",
       "      <td>239.930847</td>\n",
       "      <td>242.139442</td>\n",
       "      <td>238.806648</td>\n",
       "      <td>241.472886</td>\n",
       "      <td>5730200</td>\n",
       "    </tr>\n",
       "    <tr>\n",
       "      <th>2024-12-30</th>\n",
       "      <td>238.090363</td>\n",
       "      <td>239.602542</td>\n",
       "      <td>235.891711</td>\n",
       "      <td>237.543185</td>\n",
       "      <td>5723800</td>\n",
       "    </tr>\n",
       "    <tr>\n",
       "      <th>2024-12-31</th>\n",
       "      <td>238.478348</td>\n",
       "      <td>240.199455</td>\n",
       "      <td>237.801834</td>\n",
       "      <td>238.816597</td>\n",
       "      <td>4871000</td>\n",
       "    </tr>\n",
       "  </tbody>\n",
       "</table>\n",
       "<p>3774 rows × 5 columns</p>\n",
       "</div>"
      ],
      "text/plain": [
       "Price            Close        High         Low        Open    Volume\n",
       "Ticker             JPM         JPM         JPM         JPM       JPM\n",
       "Date                                                                \n",
       "2010-01-04   29.006744   29.101518   28.207959   28.289193  35460500\n",
       "2010-01-05   29.568615   29.676925   28.959370   28.966141  41208300\n",
       "2010-01-06   29.731073   29.846154   29.318144   29.412915  27729000\n",
       "2010-01-07   30.320011   30.543399   29.521225   29.643074  44864700\n",
       "2010-01-08   30.245550   30.259089   29.839389   30.035699  33110100\n",
       "...                ...         ...         ...         ...       ...\n",
       "2024-12-24  241.064987  241.244070  237.841644  238.199780   3729100\n",
       "2024-12-26  241.890717  242.010095  239.552785  240.189496   4451800\n",
       "2024-12-27  239.930847  242.139442  238.806648  241.472886   5730200\n",
       "2024-12-30  238.090363  239.602542  235.891711  237.543185   5723800\n",
       "2024-12-31  238.478348  240.199455  237.801834  238.816597   4871000\n",
       "\n",
       "[3774 rows x 5 columns]"
      ]
     },
     "execution_count": 13,
     "metadata": {},
     "output_type": "execute_result"
    }
   ],
   "source": [
    "yf.download('JPM', start ='2010-01-01', end = '2025-01-01')"
   ]
  },
  {
   "cell_type": "code",
   "execution_count": 21,
   "id": "f5b6696b-58c3-468a-84c3-d94ee9c36f1a",
   "metadata": {},
   "outputs": [
    {
     "name": "stderr",
     "output_type": "stream",
     "text": [
      "[*********************100%***********************]  1 of 1 completed\n",
      "[*********************100%***********************]  1 of 1 completed\n"
     ]
    }
   ],
   "source": [
    "df1 = yf.download('JPM', start ='2025-01-28', end = '2025-01-29', interval='1M')\n",
    "df2 = yf.download('BAC', start ='2025-01-28', end = '2025-01-29', interval='1M')"
   ]
  },
  {
   "cell_type": "code",
   "execution_count": 25,
   "id": "e2379261-3d87-493c-8008-439488954bc8",
   "metadata": {},
   "outputs": [],
   "source": [
    "import pandas as pd"
   ]
  },
  {
   "cell_type": "code",
   "execution_count": 27,
   "id": "86dd4ddd-2158-4880-90ec-9576cfb3b14f",
   "metadata": {},
   "outputs": [],
   "source": [
    "combined_df = pd.concat([df1[['Close']], df2[['Close']]], axis=1, keys=['JPM', 'BAC'])"
   ]
  },
  {
   "cell_type": "code",
   "execution_count": 29,
   "id": "d0e08f42-a690-47ad-b4fb-37940dece7a9",
   "metadata": {},
   "outputs": [
    {
     "data": {
      "text/html": [
       "<div>\n",
       "<style scoped>\n",
       "    .dataframe tbody tr th:only-of-type {\n",
       "        vertical-align: middle;\n",
       "    }\n",
       "\n",
       "    .dataframe tbody tr th {\n",
       "        vertical-align: top;\n",
       "    }\n",
       "\n",
       "    .dataframe thead tr th {\n",
       "        text-align: left;\n",
       "    }\n",
       "\n",
       "    .dataframe thead tr:last-of-type th {\n",
       "        text-align: right;\n",
       "    }\n",
       "</style>\n",
       "<table border=\"1\" class=\"dataframe\">\n",
       "  <thead>\n",
       "    <tr>\n",
       "      <th></th>\n",
       "      <th>JPM</th>\n",
       "      <th>BAC</th>\n",
       "    </tr>\n",
       "    <tr>\n",
       "      <th>Price</th>\n",
       "      <th>Close</th>\n",
       "      <th>Close</th>\n",
       "    </tr>\n",
       "    <tr>\n",
       "      <th>Ticker</th>\n",
       "      <th>JPM</th>\n",
       "      <th>BAC</th>\n",
       "    </tr>\n",
       "    <tr>\n",
       "      <th>Datetime</th>\n",
       "      <th></th>\n",
       "      <th></th>\n",
       "    </tr>\n",
       "  </thead>\n",
       "  <tbody>\n",
       "    <tr>\n",
       "      <th>2025-01-28 09:30:00</th>\n",
       "      <td>265.179993</td>\n",
       "      <td>46.930000</td>\n",
       "    </tr>\n",
       "    <tr>\n",
       "      <th>2025-01-28 09:31:00</th>\n",
       "      <td>265.100006</td>\n",
       "      <td>47.070000</td>\n",
       "    </tr>\n",
       "    <tr>\n",
       "      <th>2025-01-28 09:32:00</th>\n",
       "      <td>265.410004</td>\n",
       "      <td>47.000000</td>\n",
       "    </tr>\n",
       "    <tr>\n",
       "      <th>2025-01-28 09:33:00</th>\n",
       "      <td>265.727509</td>\n",
       "      <td>47.070000</td>\n",
       "    </tr>\n",
       "    <tr>\n",
       "      <th>2025-01-28 09:34:00</th>\n",
       "      <td>265.640015</td>\n",
       "      <td>47.070000</td>\n",
       "    </tr>\n",
       "    <tr>\n",
       "      <th>...</th>\n",
       "      <td>...</td>\n",
       "      <td>...</td>\n",
       "    </tr>\n",
       "    <tr>\n",
       "      <th>2025-01-28 15:55:00</th>\n",
       "      <td>266.640015</td>\n",
       "      <td>46.945000</td>\n",
       "    </tr>\n",
       "    <tr>\n",
       "      <th>2025-01-28 15:56:00</th>\n",
       "      <td>266.869598</td>\n",
       "      <td>46.930000</td>\n",
       "    </tr>\n",
       "    <tr>\n",
       "      <th>2025-01-28 15:57:00</th>\n",
       "      <td>266.900513</td>\n",
       "      <td>46.910000</td>\n",
       "    </tr>\n",
       "    <tr>\n",
       "      <th>2025-01-28 15:58:00</th>\n",
       "      <td>266.910004</td>\n",
       "      <td>46.875000</td>\n",
       "    </tr>\n",
       "    <tr>\n",
       "      <th>2025-01-28 15:59:00</th>\n",
       "      <td>267.119995</td>\n",
       "      <td>46.830002</td>\n",
       "    </tr>\n",
       "  </tbody>\n",
       "</table>\n",
       "<p>389 rows × 2 columns</p>\n",
       "</div>"
      ],
      "text/plain": [
       "                            JPM        BAC\n",
       "Price                     Close      Close\n",
       "Ticker                      JPM        BAC\n",
       "Datetime                                  \n",
       "2025-01-28 09:30:00  265.179993  46.930000\n",
       "2025-01-28 09:31:00  265.100006  47.070000\n",
       "2025-01-28 09:32:00  265.410004  47.000000\n",
       "2025-01-28 09:33:00  265.727509  47.070000\n",
       "2025-01-28 09:34:00  265.640015  47.070000\n",
       "...                         ...        ...\n",
       "2025-01-28 15:55:00  266.640015  46.945000\n",
       "2025-01-28 15:56:00  266.869598  46.930000\n",
       "2025-01-28 15:57:00  266.900513  46.910000\n",
       "2025-01-28 15:58:00  266.910004  46.875000\n",
       "2025-01-28 15:59:00  267.119995  46.830002\n",
       "\n",
       "[389 rows x 2 columns]"
      ]
     },
     "execution_count": 29,
     "metadata": {},
     "output_type": "execute_result"
    }
   ],
   "source": [
    "combined_df"
   ]
  },
  {
   "cell_type": "code",
   "execution_count": 31,
   "id": "4b04d906-5663-4181-8094-c45a7b4b1805",
   "metadata": {},
   "outputs": [],
   "source": [
    "import matplotlib.pyplot as plt"
   ]
  },
  {
   "cell_type": "code",
   "execution_count": 51,
   "id": "a4a634ac-2878-4514-a562-de0e003961d5",
   "metadata": {},
   "outputs": [
    {
     "data": {
      "text/plain": [
       "Text(0.5, 1.0, 'JPM Minute Price')"
      ]
     },
     "execution_count": 51,
     "metadata": {},
     "output_type": "execute_result"
    },
    {
     "data": {
      "image/png": "[encoded data removed]",
      "text/plain": [
       "<Figure size 640x480 with 1 Axes>"
      ]
     },
     "metadata": {},
     "output_type": "display_data"
    }
   ],
   "source": [
    "plt.plot(df1['Close'], label='JPM Price', c='blue')\n",
    "plt.title('JPM Minute Price')"
   ]
  },
  {
   "cell_type": "code",
   "execution_count": null,
   "id": "fe14d9c8-4d10-4ab8-b2ed-063dfc77feca",
   "metadata": {},
   "outputs": [],
   "source": []
  }
 ],
 "metadata": {
  "kernelspec": {
   "display_name": "Python [conda env:base] *",
   "language": "python",
   "name": "conda-base-py"
  },
  "language_info": {
   "codemirror_mode": {
    "name": "ipython",
    "version": 3
   },
   "file_extension": ".py",
   "mimetype": "text/x-python",
   "name": "python",
   "nbconvert_exporter": "python",
   "pygments_lexer": "ipython3",
   "version": "3.12.7"
  }
 },
 "nbformat": 4,
 "nbformat_minor": 5
}
